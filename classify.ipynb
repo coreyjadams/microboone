{
 "cells": [
  {
   "cell_type": "code",
   "execution_count": 11,
   "metadata": {},
   "outputs": [],
   "source": [
    "%%bash\n",
    "# Preparation: make symbolic links for practice_train_10k.root and practice_test_10k.root\n",
    "PRACTICE_FILE_DIR=.\n",
    "ln -sf $PRACTICE_FILE_DIR/e_m_hadd.root ./train.root\n",
    "ln -sf $PRACTICE_FILE_DIR/e_m_hadd.root ./test.root"
   ]
  },
  {
   "cell_type": "code",
   "execution_count": 12,
   "metadata": {},
   "outputs": [
    {
     "name": "stdout",
     "output_type": "stream",
     "text": [
      "env: CUDA_DEVICE_ORDER=PCI_BUS_ID\n",
      "env: CUDA_VISIBLE_DEVICES=2\n"
     ]
    }
   ],
   "source": [
    "from larcv import larcv\n",
    "from larcv.dataloader3 import larcv_threadio\n",
    "import numpy as np\n",
    "import matplotlib\n",
    "import matplotlib.pyplot as plt\n",
    "%matplotlib inline\n",
    "import os,sys,time\n",
    "\n",
    "# tensorflow/gpu start-up configuration\n",
    "os.environ['TF_CPP_MIN_LOG_LEVEL'] = '3'\n",
    "%env CUDA_DEVICE_ORDER=PCI_BUS_ID\n",
    "%env CUDA_VISIBLE_DEVICES=2\n",
    "#import tensorflow as tf"
   ]
  },
  {
   "cell_type": "code",
   "execution_count": 13,
   "metadata": {},
   "outputs": [],
   "source": [
    "DIR     = '.'\n",
    "TRAIN_IO_CONFIG  = 'config_train.cfg'#os.path.join(DIR, 'config_train.cfg')\n",
    "TEST_IO_CONFIG   = 'config_test.cfg'#os.path.join(DIR, 'config_test.cfg' )\n",
    "TRAIN_BATCH_SIZE = 50\n",
    "TEST_BATCH_SIZE  = 100\n",
    "LOGDIR           = 'log'\n",
    "ITERATIONS       = 5000\n",
    "SAVE_SUMMARY     = 20\n",
    "SAVE_WEIGHTS     = 100\n",
    "\n",
    "# Check log directory is empty\n",
    "train_logdir = os.path.join(LOGDIR,'train')\n",
    "test_logdir  = os.path.join(LOGDIR,'test')\n",
    "if not os.path.isdir(train_logdir): os.makedirs(train_logdir)\n",
    "if not os.path.isdir(test_logdir):  os.makedirs(test_logdir)\n",
    "if len(os.listdir(train_logdir)) or len(os.listdir(test_logdir)):\n",
    "  sys.stderr.write('Error: train or test log dir not empty...\\n')\n",
    "  raise OSError"
   ]
  },
  {
   "cell_type": "code",
   "execution_count": 10,
   "metadata": {},
   "outputs": [
    {
     "name": "stdout",
     "output_type": "stream",
     "text": [
      "<class 'larcv.dataloader3.larcv_threadio'>\n"
     ]
    },
    {
     "name": "stderr",
     "output_type": "stream",
     "text": [
      "must call configure(cfg) before start_manager()!\n"
     ]
    },
    {
     "ename": "TypeError",
     "evalue": "none of the 2 overloaded methods succeeded. Full details:\n  void larcv::ThreadProcessor::configure(const string config_file) =>\n    \u001b[93mKey does not exist: \"OutputProducer\"\u001b[00m (C++ exception of type larcv::larbys)\n  void larcv::ThreadProcessor::configure(const larcv::PSet& cfg) =>\n    could not convert argument 1",
     "output_type": "error",
     "traceback": [
      "\u001b[0;31m\u001b[0m",
      "\u001b[0;31mTypeError\u001b[0mTraceback (most recent call last)",
      "\u001b[0;32m<ipython-input-10-818c08916206>\u001b[0m in \u001b[0;36m<module>\u001b[0;34m()\u001b[0m\n\u001b[1;32m      8\u001b[0m                 'filler_cfg'  : TRAIN_IO_CONFIG}\n\u001b[1;32m      9\u001b[0m \u001b[0;32mprint\u001b[0m \u001b[0mtype\u001b[0m\u001b[0;34m(\u001b[0m\u001b[0mtrain_io\u001b[0m\u001b[0;34m)\u001b[0m\u001b[0;34m\u001b[0m\u001b[0m\n\u001b[0;32m---> 10\u001b[0;31m \u001b[0mtrain_io\u001b[0m\u001b[0;34m.\u001b[0m\u001b[0mconfigure\u001b[0m\u001b[0;34m(\u001b[0m\u001b[0mtrain_io_cfg\u001b[0m\u001b[0;34m)\u001b[0m   \u001b[0;31m# configure\u001b[0m\u001b[0;34m\u001b[0m\u001b[0m\n\u001b[0m\u001b[1;32m     11\u001b[0m \u001b[0mtrain_io\u001b[0m\u001b[0;34m.\u001b[0m\u001b[0mstart_manager\u001b[0m\u001b[0;34m(\u001b[0m\u001b[0mTRAIN_BATCH_SIZE\u001b[0m\u001b[0;34m)\u001b[0m \u001b[0;31m# start read thread\u001b[0m\u001b[0;34m\u001b[0m\u001b[0m\n\u001b[1;32m     12\u001b[0m \u001b[0mtime\u001b[0m\u001b[0;34m.\u001b[0m\u001b[0msleep\u001b[0m\u001b[0;34m(\u001b[0m\u001b[0;36m2\u001b[0m\u001b[0;34m)\u001b[0m\u001b[0;34m\u001b[0m\u001b[0m\n",
      "\u001b[0;32m/Users/madelinebernstein/microboone/larcv2/python/larcv/dataloader3.pyc\u001b[0m in \u001b[0;36mconfigure\u001b[0;34m(self, cfg)\u001b[0m\n\u001b[1;32m    190\u001b[0m       \u001b[0mself\u001b[0m\u001b[0;34m.\u001b[0m\u001b[0m_proc\u001b[0m \u001b[0;34m=\u001b[0m \u001b[0mlarcv\u001b[0m\u001b[0;34m.\u001b[0m\u001b[0mThreadProcessor\u001b[0m\u001b[0;34m(\u001b[0m\u001b[0mself\u001b[0m\u001b[0;34m.\u001b[0m\u001b[0m_name\u001b[0m\u001b[0;34m)\u001b[0m\u001b[0;34m\u001b[0m\u001b[0m\n\u001b[1;32m    191\u001b[0m \u001b[0;34m\u001b[0m\u001b[0m\n\u001b[0;32m--> 192\u001b[0;31m       \u001b[0mself\u001b[0m\u001b[0;34m.\u001b[0m\u001b[0m_proc\u001b[0m\u001b[0;34m.\u001b[0m\u001b[0mconfigure\u001b[0m\u001b[0;34m(\u001b[0m\u001b[0mself\u001b[0m\u001b[0;34m.\u001b[0m\u001b[0m_cfg_file\u001b[0m\u001b[0;34m)\u001b[0m\u001b[0;34m\u001b[0m\u001b[0m\n\u001b[0m\u001b[1;32m    193\u001b[0m       \u001b[0mself\u001b[0m\u001b[0;34m.\u001b[0m\u001b[0m_storage_v\u001b[0m \u001b[0;34m=\u001b[0m \u001b[0;34m[\u001b[0m\u001b[0;34m]\u001b[0m\u001b[0;34m\u001b[0m\u001b[0m\n\u001b[1;32m    194\u001b[0m       \u001b[0;32mfor\u001b[0m \u001b[0mstorage_id\u001b[0m \u001b[0;32min\u001b[0m \u001b[0mrange\u001b[0m\u001b[0;34m(\u001b[0m\u001b[0mself\u001b[0m\u001b[0;34m.\u001b[0m\u001b[0m_proc\u001b[0m\u001b[0;34m.\u001b[0m\u001b[0mstorage_status_array\u001b[0m\u001b[0;34m(\u001b[0m\u001b[0;34m)\u001b[0m\u001b[0;34m.\u001b[0m\u001b[0msize\u001b[0m\u001b[0;34m(\u001b[0m\u001b[0;34m)\u001b[0m\u001b[0;34m)\u001b[0m\u001b[0;34m:\u001b[0m\u001b[0;34m\u001b[0m\u001b[0m\n",
      "\u001b[0;31mTypeError\u001b[0m: none of the 2 overloaded methods succeeded. Full details:\n  void larcv::ThreadProcessor::configure(const string config_file) =>\n    \u001b[93mKey does not exist: \"OutputProducer\"\u001b[00m (C++ exception of type larcv::larbys)\n  void larcv::ThreadProcessor::configure(const larcv::PSet& cfg) =>\n    could not convert argument 1"
     ]
    },
    {
     "name": "stdout",
     "output_type": "stream",
     "text": [
      "\u001b[93m setting verbosity \u001b[00m3\n",
      "train_label_t0 : {\n",
      "  ParticleProducer : \"sbndseg\"\n",
      "  PdgClassList : [11,13]\n",
      "  Verbosity : 3\n",
      "}\n",
      "\n"
     ]
    }
   ],
   "source": [
    "#\n",
    "# Step 0: IO\n",
    "#\n",
    "#for \"train\" data set\n",
    "train_io = larcv_threadio()  # create io interface\n",
    "train_io_cfg = {'filler_name' : 'TrainIO',\n",
    "                'verbosity'   : 0,\n",
    "                'filler_cfg'  : TRAIN_IO_CONFIG}\n",
    "print type(train_io)\n",
    "train_io.configure(train_io_cfg)   # configure\n",
    "train_io.start_manager(TRAIN_BATCH_SIZE) # start read thread\n",
    "time.sleep(2)\n",
    "train_io.next()\n",
    "\n",
    "# for \"test\" data set\n",
    "test_io = larcv_threadio()   # create io interface\n",
    "test_io_cfg = {'filler_name' : 'TestIO',\n",
    "               'verbosity'   : 0,\n",
    "               'filler_cfg'  : TEST_IO_CONFIG}\n",
    "test_io.configure(test_io_cfg)   # configure\n",
    "test_io.start_manager(TEST_BATCH_SIZE) # start read thread\n",
    "time.sleep(2)\n",
    "# test_io.next()"
   ]
  },
  {
   "cell_type": "code",
   "execution_count": null,
   "metadata": {},
   "outputs": [],
   "source": []
  }
 ],
 "metadata": {
  "kernelspec": {
   "display_name": "Python 2",
   "language": "python",
   "name": "python2"
  },
  "language_info": {
   "codemirror_mode": {
    "name": "ipython",
    "version": 2
   },
   "file_extension": ".py",
   "mimetype": "text/x-python",
   "name": "python",
   "nbconvert_exporter": "python",
   "pygments_lexer": "ipython2",
   "version": "2.7.10"
  }
 },
 "nbformat": 4,
 "nbformat_minor": 2
}
